{
 "cells": [
  {
   "cell_type": "code",
   "execution_count": 1,
   "metadata": {},
   "outputs": [],
   "source": [
    "from client.generator import MNISTDataGenerator,BATCH_SIZE\n",
    "datagen = MNISTDataGenerator()\n",
    "datagen.length()"
   ]
  },
  {
   "cell_type": "code",
   "execution_count": 4,
   "metadata": {},
   "outputs": [],
   "source": [
    "# train 100 batches\n",
    "for _ in range(100):\n",
    "    batch = datagen.get_next_train_batch()\n",
    "\n",
    "    assert batch.shape[0] == BATCH_SIZE"
   ]
  },
  {
   "cell_type": "code",
   "execution_count": 5,
   "metadata": {},
   "outputs": [],
   "source": [
    "# test 100 batches\n",
    "for _ in range(100):\n",
    "    batch = datagen.get_next_test_batch()\n",
    "\n",
    "    assert batch.shape[0] == BATCH_SIZE"
   ]
  }
 ],
 "metadata": {
  "kernelspec": {
   "display_name": "iot",
   "language": "python",
   "name": "python3"
  },
  "language_info": {
   "codemirror_mode": {
    "name": "ipython",
    "version": 3
   },
   "file_extension": ".py",
   "mimetype": "text/x-python",
   "name": "python",
   "nbconvert_exporter": "python",
   "pygments_lexer": "ipython3",
   "version": "3.11.5"
  }
 },
 "nbformat": 4,
 "nbformat_minor": 2
}
