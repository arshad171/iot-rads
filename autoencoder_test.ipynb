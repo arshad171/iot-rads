{
 "cells": [
  {
   "cell_type": "code",
   "execution_count": 52,
   "metadata": {},
   "outputs": [],
   "source": [
    "from tqdm import tqdm\n",
    "import pickle\n",
    "import gzip\n",
    "from typing import List\n",
    "import matplotlib.pyplot as plt\n",
    "\n",
    "import numpy as np\n",
    "from sklearn.preprocessing import OneHotEncoder\n",
    "\n",
    "from neural_network.layers.base_layer import BaseLayer\n",
    "from neural_network.layers.linear_layer import LinearLayer\n",
    "from neural_network.layers.relu_layer import ReluLayer\n",
    "from neural_network.layers.sigmoid_layer import SigmoidLayer\n",
    "from neural_network.models.layer_types import LayerTypes\n",
    "from neural_network.utils import predict, accuracy\n",
    "\n",
    "from neural_network.losses.squared_loss import SquaredLoss\n",
    "from neural_network.losses.absolute_loss import AbsoluteLoss\n",
    "\n",
    "import tensorflow as tf"
   ]
  },
  {
   "cell_type": "code",
   "execution_count": 53,
   "metadata": {},
   "outputs": [],
   "source": [
    "# set the seed to zero for reproducibility\n",
    "np.random.seed(0)"
   ]
  },
  {
   "cell_type": "code",
   "execution_count": 54,
   "metadata": {},
   "outputs": [],
   "source": [
    "# input\n",
    "input_size = 200\n",
    "# output\n",
    "output_size = 200\n",
    "\n",
    "# number of samples (datapoints)\n",
    "N_TRAIN = 1_000\n",
    "N_TEST = 10"
   ]
  },
  {
   "cell_type": "code",
   "execution_count": 55,
   "metadata": {},
   "outputs": [],
   "source": [
    "x_train = np.random.multivariate_normal(mean=np.zeros(shape=(input_size,)), cov=np.eye(input_size), size=N_TRAIN)\n",
    "\n",
    "min_vals = np.min(x_train, axis=0)\n",
    "max_vals = np.max(x_train, axis=0)\n",
    "x_train = (x_train - min_vals) / (max_vals - min_vals)\n",
    "\n",
    "y_train = x_train.copy()\n",
    "\n",
    "x_test = np.random.multivariate_normal(mean=np.zeros(shape=(input_size,)), cov=np.eye(input_size), size=N_TEST)\n",
    "\n",
    "x_test = (x_test - min_vals) / (max_vals - min_vals)\n",
    "\n",
    "y_test = x_test.copy()"
   ]
  },
  {
   "cell_type": "code",
   "execution_count": 56,
   "metadata": {},
   "outputs": [],
   "source": [
    "shuffle_ix = np.arange(0, N_TRAIN, 1) \n",
    "np.random.shuffle(shuffle_ix,)"
   ]
  },
  {
   "cell_type": "code",
   "execution_count": 57,
   "metadata": {},
   "outputs": [],
   "source": [
    "SAVE = True\n",
    "\n",
    "BATCH_SIZE = 32\n",
    "LEARNING_RATE = 1e-4\n",
    "EPOCHS = 50\n",
    "\n",
    "# neural network: nothing but a list of layers!\n",
    "neural_net: List[BaseLayer] = [\n",
    "    LinearLayer(input_size=input_size, output_size=50),\n",
    "    ReluLayer(),\n",
    "    LinearLayer(input_size=50, output_size=10),\n",
    "    ReluLayer(),\n",
    "    LinearLayer(input_size=10, output_size=3),\n",
    "    ReluLayer(),\n",
    "    LinearLayer(input_size=3, output_size=10),\n",
    "    ReluLayer(),\n",
    "    LinearLayer(input_size=10, output_size=50),\n",
    "    ReluLayer(),\n",
    "    LinearLayer(input_size=50, output_size=output_size),\n",
    "    SigmoidLayer(),\n",
    "]\n",
    "\n",
    "# loss = AbsoluteLoss()\n",
    "loss = SquaredLoss()"
   ]
  },
  {
   "cell_type": "code",
   "execution_count": 58,
   "metadata": {},
   "outputs": [
    {
     "name": "stderr",
     "output_type": "stream",
     "text": [
      "100%|██████████| 50/50 [00:02<00:00, 20.51it/s]\n"
     ]
    }
   ],
   "source": [
    "train_losses = []\n",
    "train_accuracies = []\n",
    "test_accuracies = []\n",
    "\n",
    "for epoch in tqdm(range(EPOCHS)):\n",
    "    epoch_loss = []\n",
    "    for batch_start in range(0, N_TRAIN, BATCH_SIZE):\n",
    "        batch_ix = shuffle_ix[batch_start: batch_start + BATCH_SIZE]\n",
    "\n",
    "        X_batch: np.ndarray = x_train[batch_ix]\n",
    "        y_batch: np.ndarray = y_train[batch_ix]\n",
    "\n",
    "        # transpose, (m x N) and (n x N)\n",
    "        X_batch = X_batch.T\n",
    "        y_batch = y_batch.T\n",
    "\n",
    "        ### forward propagation\n",
    "        fps = []\n",
    "        fp = X_batch\n",
    "        for layer in neural_net:\n",
    "            fp = layer.forward(fp, persist=True)\n",
    "            fps.append(fp)\n",
    "\n",
    "        train_loss = loss.forward(Yhat=fp, Y=y_batch)\n",
    "        epoch_loss.append(train_loss)\n",
    "        \n",
    "        # final upstream grads\n",
    "        # should ideally come from the loss function, assume it for now \n",
    "        # (this will change when the loss function is implemented)\n",
    "        # dLdY = np.random.randn(y_batch.shape[0], y_batch.shape[1])\n",
    "\n",
    "        # compute the final upstream grads from the loss function\n",
    "        dLdY = loss.backward(Yhat=fp, Y=y_batch)\n",
    "\n",
    "        ### backprop\n",
    "        # iterate the layers in reversed order for backprop, use chain rule recursively!\n",
    "        for layer in reversed(neural_net):\n",
    "            if layer.type == LayerTypes.ACTIVATION:\n",
    "                dLdY = layer.backward(dLdY=dLdY)\n",
    "\n",
    "            if layer.type == LayerTypes.LINEAR:\n",
    "                # use these for gradient update\n",
    "                dLdW, dLdb = layer.grads(dLdY=dLdY)\n",
    "\n",
    "                ### gradient descent\n",
    "                layer.weights -= LEARNING_RATE * dLdW\n",
    "                layer.bias -= LEARNING_RATE * dLdb\n",
    "\n",
    "                # new dLdY to pass to the previous layer\n",
    "                dLdY = layer.backward(dLdY=dLdY)\n",
    "    \n",
    "    train_losses.append(np.mean(epoch_loss))\n",
    "    # train_accuracies.append(accuracy(neural_net=neural_net, X_data=X_train, y_data=y_train))\n",
    "    # test_accuracies.append(accuracy(neural_net=neural_net, X_data=X_test, y_data=y_test))\n"
   ]
  },
  {
   "cell_type": "code",
   "execution_count": 59,
   "metadata": {},
   "outputs": [
    {
     "data": {
      "image/png": "[encoded data removed]",
      "text/plain": [
       "<Figure size 1000x600 with 1 Axes>"
      ]
     },
     "metadata": {},
     "output_type": "display_data"
    }
   ],
   "source": [
    "# plot the train and test accuracies\n",
    "plt.figure(figsize=(10, 6)) \n",
    "plt.plot(range(EPOCHS), train_losses, marker='o', linestyle='-',label='train accuracy')\n",
    "# plt.plot(range(EPOCHS), test_accuracies, marker='s', linestyle='--', label='test accuracy')\n",
    "plt.xlabel('Epochs')\n",
    "plt.ylabel('Loss')\n",
    "plt.title('Loss vs. Epochs')\n",
    "plt.legend()\n",
    "plt.grid(True)\n",
    "plt.show()"
   ]
  },
  {
   "cell_type": "code",
   "execution_count": 60,
   "metadata": {},
   "outputs": [
    {
     "name": "stdout",
     "output_type": "stream",
     "text": [
      "0.02189591845813633\n"
     ]
    }
   ],
   "source": [
    "y_test_pred = predict(neural_net, x_test)\n",
    "print(np.mean(np.square(x_test[0] - y_test_pred[0])))"
   ]
  },
  {
   "cell_type": "code",
   "execution_count": 61,
   "metadata": {},
   "outputs": [
    {
     "name": "stdout",
     "output_type": "stream",
     "text": [
      "[0.50004936 0.56740819 0.37763604 0.50580017 0.3041809  0.30728483\n",
      " 0.55951348 0.47860538 0.30258627 0.29829281]\n",
      "[0.49181395 0.51629068 0.50734837 0.50461987 0.49852844 0.46053667\n",
      " 0.47203527 0.50690902 0.51322448 0.48036371]\n"
     ]
    }
   ],
   "source": [
    "print(y_test[0][0:10])\n",
    "print(y_test_pred[0][0:10])"
   ]
  },
  {
   "cell_type": "code",
   "execution_count": 62,
   "metadata": {},
   "outputs": [
    {
     "name": "stdout",
     "output_type": "stream",
     "text": [
      "Model: \"sequential_4\"\n",
      "_________________________________________________________________\n",
      " Layer (type)                Output Shape              Param #   \n",
      "=================================================================\n",
      " dense_28 (Dense)            (None, 50)                10050     \n",
      "                                                                 \n",
      " dense_29 (Dense)            (None, 10)                510       \n",
      "                                                                 \n",
      " dense_30 (Dense)            (None, 3)                 33        \n",
      "                                                                 \n",
      " dense_31 (Dense)            (None, 5)                 20        \n",
      "                                                                 \n",
      " dense_32 (Dense)            (None, 10)                60        \n",
      "                                                                 \n",
      " dense_33 (Dense)            (None, 50)                550       \n",
      "                                                                 \n",
      " dense_34 (Dense)            (None, 200)               10200     \n",
      "                                                                 \n",
      "=================================================================\n",
      "Total params: 21423 (83.68 KB)\n",
      "Trainable params: 21423 (83.68 KB)\n",
      "Non-trainable params: 0 (0.00 Byte)\n",
      "_________________________________________________________________\n"
     ]
    }
   ],
   "source": [
    "tf_neural_net = tf.keras.Sequential([\n",
    "    tf.keras.layers.InputLayer(input_shape=(input_size)),\n",
    "    tf.keras.layers.Dense(units=50, activation=\"relu\"),\n",
    "    tf.keras.layers.Dense(units=10, activation=\"relu\"),\n",
    "    tf.keras.layers.Dense(units=3, activation=\"relu\"),\n",
    "    tf.keras.layers.Dense(units=5, activation=\"relu\"),\n",
    "    tf.keras.layers.Dense(units=10, activation=\"relu\"),\n",
    "    tf.keras.layers.Dense(units=50, activation=\"relu\"),\n",
    "    tf.keras.layers.Dense(units=output_size, activation=\"sigmoid\"),\n",
    "])\n",
    "\n",
    "tf_neural_net.compile(optimizer=\"sgd\", loss=\"mse\")\n",
    "\n",
    "tf_neural_net.summary()"
   ]
  },
  {
   "cell_type": "code",
   "execution_count": 63,
   "metadata": {},
   "outputs": [
    {
     "name": "stdout",
     "output_type": "stream",
     "text": [
      "Epoch 1/50\n",
      "32/32 [==============================] - 1s 9ms/step - loss: 0.0295\n",
      "Epoch 2/50\n",
      "32/32 [==============================] - 0s 7ms/step - loss: 0.0295\n",
      "Epoch 3/50\n",
      "32/32 [==============================] - 0s 7ms/step - loss: 0.0294\n",
      "Epoch 4/50\n",
      "32/32 [==============================] - 0s 7ms/step - loss: 0.0293\n",
      "Epoch 5/50\n",
      "32/32 [==============================] - 0s 7ms/step - loss: 0.0292\n",
      "Epoch 6/50\n",
      "32/32 [==============================] - 0s 7ms/step - loss: 0.0291\n",
      "Epoch 7/50\n",
      "32/32 [==============================] - 0s 7ms/step - loss: 0.0291\n",
      "Epoch 8/50\n",
      "32/32 [==============================] - 0s 7ms/step - loss: 0.0290\n",
      "Epoch 9/50\n",
      "32/32 [==============================] - 0s 7ms/step - loss: 0.0289\n",
      "Epoch 10/50\n",
      "32/32 [==============================] - 0s 8ms/step - loss: 0.0289\n",
      "Epoch 11/50\n",
      "32/32 [==============================] - 0s 7ms/step - loss: 0.0288\n",
      "Epoch 12/50\n",
      "32/32 [==============================] - 0s 7ms/step - loss: 0.0287\n",
      "Epoch 13/50\n",
      "32/32 [==============================] - 0s 7ms/step - loss: 0.0287\n",
      "Epoch 14/50\n",
      "32/32 [==============================] - 0s 7ms/step - loss: 0.0286\n",
      "Epoch 15/50\n",
      "32/32 [==============================] - 0s 7ms/step - loss: 0.0286\n",
      "Epoch 16/50\n",
      "32/32 [==============================] - 0s 7ms/step - loss: 0.0285\n",
      "Epoch 17/50\n",
      "32/32 [==============================] - 0s 7ms/step - loss: 0.0284\n",
      "Epoch 18/50\n",
      "32/32 [==============================] - 0s 7ms/step - loss: 0.0284\n",
      "Epoch 19/50\n",
      "32/32 [==============================] - 0s 7ms/step - loss: 0.0283\n",
      "Epoch 20/50\n",
      "32/32 [==============================] - 0s 7ms/step - loss: 0.0283\n",
      "Epoch 21/50\n",
      "32/32 [==============================] - 0s 7ms/step - loss: 0.0282\n",
      "Epoch 22/50\n",
      "32/32 [==============================] - 0s 7ms/step - loss: 0.0282\n",
      "Epoch 23/50\n",
      "32/32 [==============================] - 0s 7ms/step - loss: 0.0282\n",
      "Epoch 24/50\n",
      "32/32 [==============================] - 0s 7ms/step - loss: 0.0281\n",
      "Epoch 25/50\n",
      "32/32 [==============================] - 0s 7ms/step - loss: 0.0281\n",
      "Epoch 26/50\n",
      "32/32 [==============================] - 0s 7ms/step - loss: 0.0280\n",
      "Epoch 27/50\n",
      "32/32 [==============================] - 0s 7ms/step - loss: 0.0280\n",
      "Epoch 28/50\n",
      "32/32 [==============================] - 0s 7ms/step - loss: 0.0279\n",
      "Epoch 29/50\n",
      "32/32 [==============================] - 0s 7ms/step - loss: 0.0279\n",
      "Epoch 30/50\n",
      "32/32 [==============================] - 0s 7ms/step - loss: 0.0279\n",
      "Epoch 31/50\n",
      "32/32 [==============================] - 0s 7ms/step - loss: 0.0278\n",
      "Epoch 32/50\n",
      "32/32 [==============================] - 0s 7ms/step - loss: 0.0278\n",
      "Epoch 33/50\n",
      "32/32 [==============================] - 0s 7ms/step - loss: 0.0277\n",
      "Epoch 34/50\n",
      "32/32 [==============================] - 0s 7ms/step - loss: 0.0277\n",
      "Epoch 35/50\n",
      "32/32 [==============================] - 0s 7ms/step - loss: 0.0277\n",
      "Epoch 36/50\n",
      "32/32 [==============================] - 0s 7ms/step - loss: 0.0276\n",
      "Epoch 37/50\n",
      "32/32 [==============================] - 0s 7ms/step - loss: 0.0276\n",
      "Epoch 38/50\n",
      "32/32 [==============================] - 0s 7ms/step - loss: 0.0276\n",
      "Epoch 39/50\n",
      "32/32 [==============================] - 0s 7ms/step - loss: 0.0275\n",
      "Epoch 40/50\n",
      "32/32 [==============================] - 0s 7ms/step - loss: 0.0275\n",
      "Epoch 41/50\n",
      "32/32 [==============================] - 0s 8ms/step - loss: 0.0275\n",
      "Epoch 42/50\n",
      "32/32 [==============================] - 0s 8ms/step - loss: 0.0274\n",
      "Epoch 43/50\n",
      "32/32 [==============================] - 0s 7ms/step - loss: 0.0274\n",
      "Epoch 44/50\n",
      "32/32 [==============================] - 0s 8ms/step - loss: 0.0274\n",
      "Epoch 45/50\n",
      "32/32 [==============================] - 0s 9ms/step - loss: 0.0274\n",
      "Epoch 46/50\n",
      "32/32 [==============================] - 0s 8ms/step - loss: 0.0273\n",
      "Epoch 47/50\n",
      "32/32 [==============================] - 0s 8ms/step - loss: 0.0273\n",
      "Epoch 48/50\n",
      "32/32 [==============================] - 0s 8ms/step - loss: 0.0273\n",
      "Epoch 49/50\n",
      "32/32 [==============================] - 0s 8ms/step - loss: 0.0272\n",
      "Epoch 50/50\n",
      "32/32 [==============================] - 0s 8ms/step - loss: 0.0272\n"
     ]
    }
   ],
   "source": [
    "history = tf_neural_net.fit(x_train, y_train, batch_size=BATCH_SIZE, epochs=EPOCHS)"
   ]
  },
  {
   "cell_type": "code",
   "execution_count": 64,
   "metadata": {},
   "outputs": [
    {
     "data": {
      "text/plain": [
       "[<matplotlib.lines.Line2D at 0x15d8a2f50>]"
      ]
     },
     "execution_count": 64,
     "metadata": {},
     "output_type": "execute_result"
    },
    {
     "data": {
      "image/png": "[encoded data removed]",
      "text/plain": [
       "<Figure size 640x480 with 1 Axes>"
      ]
     },
     "metadata": {},
     "output_type": "display_data"
    }
   ],
   "source": [
    "plt.figure()\n",
    "plt.plot(history.history[\"loss\"])"
   ]
  },
  {
   "cell_type": "code",
   "execution_count": 65,
   "metadata": {},
   "outputs": [
    {
     "name": "stdout",
     "output_type": "stream",
     "text": [
      "1/1 [==============================] - 0s 54ms/step\n",
      "0.02514749434890903\n",
      "tf.Tensor(0.025147496, shape=(), dtype=float32)\n"
     ]
    }
   ],
   "source": [
    "y_test_pred_tf = tf_neural_net.predict(x_test)\n",
    "mse = tf.keras.losses.MeanSquaredError()\n",
    "\n",
    "# print(np.linalg.norm(x_test[0] - y_test_pred_tf[0]))\n",
    "print(np.mean(np.square(y_test[0] - y_test_pred_tf[0])))\n",
    "print(mse(tf.expand_dims(y_test[0], axis=1), tf.expand_dims(y_test_pred_tf[0], axis=1)))"
   ]
  },
  {
   "cell_type": "code",
   "execution_count": 66,
   "metadata": {},
   "outputs": [
    {
     "name": "stdout",
     "output_type": "stream",
     "text": [
      "[0.50004936 0.56740819 0.37763604 0.50580017 0.3041809  0.30728483\n",
      " 0.55951348 0.47860538 0.30258627 0.29829281]\n",
      "[0.44847834 0.55290955 0.53385025 0.555539   0.44654012 0.51082903\n",
      " 0.4904931  0.457294   0.5428452  0.47986928]\n"
     ]
    }
   ],
   "source": [
    "print(y_test[0][0:10])\n",
    "print(y_test_pred_tf[0][0:10])"
   ]
  }
 ],
 "metadata": {
  "kernelspec": {
   "display_name": "iot",
   "language": "python",
   "name": "python3"
  },
  "language_info": {
   "codemirror_mode": {
    "name": "ipython",
    "version": 3
   },
   "file_extension": ".py",
   "mimetype": "text/x-python",
   "name": "python",
   "nbconvert_exporter": "python",
   "pygments_lexer": "ipython3",
   "version": "3.11.5"
  }
 },
 "nbformat": 4,
 "nbformat_minor": 2
}
