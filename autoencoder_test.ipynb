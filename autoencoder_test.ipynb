{
 "cells": [
  {
   "cell_type": "code",
   "execution_count": 1,
   "metadata": {},
   "outputs": [],
   "source": [
    "from tqdm import tqdm\n",
    "import pickle\n",
    "import gzip\n",
    "from typing import List\n",
    "import matplotlib.pyplot as plt\n",
    "\n",
    "import numpy as np\n",
    "from sklearn.preprocessing import OneHotEncoder\n",
    "\n",
    "from neural_network.layers.base_layer import BaseLayer\n",
    "from neural_network.layers.linear_layer import LinearLayer\n",
    "from neural_network.layers.relu_layer import ReluLayer\n",
    "from neural_network.layers.sigmoid_layer import SigmoidLayer\n",
    "from neural_network.models.layer_types import LayerTypes\n",
    "from neural_network.utils import predict, accuracy\n",
    "\n",
    "from neural_network.losses.squared_loss import SquaredLoss\n",
    "from neural_network.losses.absolute_loss import AbsoluteLoss\n",
    "\n",
    "import tensorflow as tf"
   ]
  },
  {
   "cell_type": "code",
   "execution_count": 2,
   "metadata": {},
   "outputs": [],
   "source": [
    "# set the seed to zero for reproducibility\n",
    "np.random.seed(0)"
   ]
  },
  {
   "cell_type": "code",
   "execution_count": 3,
   "metadata": {},
   "outputs": [],
   "source": [
    "# input\n",
    "input_size = 200\n",
    "# output\n",
    "output_size = 200\n",
    "\n",
    "# number of samples (datapoints)\n",
    "N_TRAIN = 1_000\n",
    "N_TEST = 10"
   ]
  },
  {
   "cell_type": "code",
   "execution_count": 4,
   "metadata": {},
   "outputs": [],
   "source": [
    "x_train = np.random.multivariate_normal(mean=np.zeros(shape=(input_size,)), cov=np.eye(input_size), size=N_TRAIN)\n",
    "\n",
    "min_vals = np.min(x_train, axis=0)\n",
    "max_vals = np.max(x_train, axis=0)\n",
    "x_train = (x_train - min_vals) / (max_vals - min_vals)\n",
    "\n",
    "y_train = x_train.copy()\n",
    "\n",
    "x_test = np.random.multivariate_normal(mean=np.zeros(shape=(input_size,)), cov=np.eye(input_size), size=N_TEST)\n",
    "\n",
    "x_test = (x_test - min_vals) / (max_vals - min_vals)\n",
    "\n",
    "y_test = x_test.copy()"
   ]
  },
  {
   "cell_type": "code",
   "execution_count": 5,
   "metadata": {},
   "outputs": [],
   "source": [
    "shuffle_ix = np.arange(0, N_TRAIN, 1) \n",
    "np.random.shuffle(shuffle_ix,)"
   ]
  },
  {
   "cell_type": "code",
   "execution_count": 6,
   "metadata": {},
   "outputs": [],
   "source": [
    "SAVE = True\n",
    "\n",
    "BATCH_SIZE = 32\n",
    "LEARNING_RATE = 1e-3\n",
    "EPOCHS = 15\n",
    "\n",
    "# neural network: nothing but a list of layers!\n",
    "neural_net: List[BaseLayer] = [\n",
    "    LinearLayer(input_size=input_size, output_size=50),\n",
    "    ReluLayer(),\n",
    "    LinearLayer(input_size=50, output_size=10),\n",
    "    ReluLayer(),\n",
    "    LinearLayer(input_size=10, output_size=3),\n",
    "    ReluLayer(),\n",
    "    LinearLayer(input_size=3, output_size=10),\n",
    "    ReluLayer(),\n",
    "    LinearLayer(input_size=10, output_size=50),\n",
    "    ReluLayer(),\n",
    "    LinearLayer(input_size=50, output_size=output_size),\n",
    "    SigmoidLayer(),\n",
    "]\n",
    "\n",
    "# loss = AbsoluteLoss()\n",
    "loss = SquaredLoss()"
   ]
  },
  {
   "cell_type": "code",
   "execution_count": 7,
   "metadata": {},
   "outputs": [
    {
     "name": "stderr",
     "output_type": "stream",
     "text": [
      "  0%|          | 0/15 [00:00<?, ?it/s]"
     ]
    },
    {
     "name": "stderr",
     "output_type": "stream",
     "text": [
      "100%|██████████| 15/15 [00:00<00:00, 20.28it/s]\n"
     ]
    }
   ],
   "source": [
    "train_losses = []\n",
    "train_accuracies = []\n",
    "test_accuracies = []\n",
    "\n",
    "for epoch in tqdm(range(EPOCHS)):\n",
    "    epoch_loss = []\n",
    "    for batch_start in range(0, N_TRAIN, BATCH_SIZE):\n",
    "        batch_ix = shuffle_ix[batch_start: batch_start + BATCH_SIZE]\n",
    "\n",
    "        X_batch: np.ndarray = x_train[batch_ix]\n",
    "        y_batch: np.ndarray = y_train[batch_ix]\n",
    "\n",
    "        # transpose, (m x N) and (n x N)\n",
    "        X_batch = X_batch.T\n",
    "        y_batch = y_batch.T\n",
    "\n",
    "        ### forward propagation\n",
    "        fps = []\n",
    "        fp = X_batch\n",
    "        for layer in neural_net:\n",
    "            fp = layer.forward(fp, persist=True)\n",
    "            fps.append(fp)\n",
    "\n",
    "        train_loss = loss.forward(Yhat=fp, Y=y_batch)\n",
    "        epoch_loss.append(train_loss)\n",
    "        \n",
    "        # final upstream grads\n",
    "        # should ideally come from the loss function, assume it for now \n",
    "        # (this will change when the loss function is implemented)\n",
    "        # dLdY = np.random.randn(y_batch.shape[0], y_batch.shape[1])\n",
    "\n",
    "        # compute the final upstream grads from the loss function\n",
    "        dLdY = loss.backward(Yhat=fp, Y=y_batch)\n",
    "\n",
    "        ### backprop\n",
    "        # iterate the layers in reversed order for backprop, use chain rule recursively!\n",
    "        for layer in reversed(neural_net):\n",
    "            if layer.type == LayerTypes.ACTIVATION:\n",
    "                dLdY = layer.backward(dLdY=dLdY)\n",
    "\n",
    "            if layer.type == LayerTypes.LINEAR:\n",
    "                # use these for gradient update\n",
    "                dLdW, dLdb = layer.grads(dLdY=dLdY)\n",
    "\n",
    "                ### gradient descent\n",
    "                layer.weights -= LEARNING_RATE * dLdW\n",
    "                layer.bias -= LEARNING_RATE * dLdb\n",
    "\n",
    "                # new dLdY to pass to the previous layer\n",
    "                dLdY = layer.backward(dLdY=dLdY)\n",
    "    \n",
    "    train_losses.append(np.mean(epoch_loss))\n",
    "    # train_accuracies.append(accuracy(neural_net=neural_net, X_data=X_train, y_data=y_train))\n",
    "    # test_accuracies.append(accuracy(neural_net=neural_net, X_data=X_test, y_data=y_test))\n"
   ]
  },
  {
   "cell_type": "code",
   "execution_count": 8,
   "metadata": {},
   "outputs": [
    {
     "data": {
      "image/png": "[encoded data removed]",
      "text/plain": [
       "<Figure size 1000x600 with 1 Axes>"
      ]
     },
     "metadata": {},
     "output_type": "display_data"
    }
   ],
   "source": [
    "# plot the train and test accuracies\n",
    "plt.figure(figsize=(10, 6)) \n",
    "plt.plot(range(EPOCHS), train_losses, marker='o', linestyle='-',label='train accuracy')\n",
    "# plt.plot(range(EPOCHS), test_accuracies, marker='s', linestyle='--', label='test accuracy')\n",
    "plt.xlabel('Epochs')\n",
    "plt.ylabel('Loss')\n",
    "plt.title('Loss vs. Epochs')\n",
    "plt.legend()\n",
    "plt.grid(True)\n",
    "plt.show()"
   ]
  },
  {
   "cell_type": "code",
   "execution_count": 9,
   "metadata": {},
   "outputs": [
    {
     "name": "stdout",
     "output_type": "stream",
     "text": [
      "0.022312124233857686\n"
     ]
    }
   ],
   "source": [
    "y_test_pred = predict(neural_net, x_test)\n",
    "print(np.mean(np.square(x_test[0] - y_test_pred[0])))"
   ]
  },
  {
   "cell_type": "code",
   "execution_count": 10,
   "metadata": {},
   "outputs": [
    {
     "name": "stdout",
     "output_type": "stream",
     "text": [
      "[0.50004936 0.56740819 0.37763604 0.50580017 0.3041809  0.30728483\n",
      " 0.55951348 0.47860538 0.30258627 0.29829281]\n",
      "[0.49662194 0.53393916 0.50307334 0.49357058 0.48362198 0.46439015\n",
      " 0.46657274 0.52905897 0.50711403 0.47393308]\n"
     ]
    }
   ],
   "source": [
    "print(y_test[0][0:10])\n",
    "print(y_test_pred[0][0:10])"
   ]
  },
  {
   "cell_type": "code",
   "execution_count": 11,
   "metadata": {},
   "outputs": [
    {
     "name": "stdout",
     "output_type": "stream",
     "text": [
      "Model: \"sequential\"\n",
      "_________________________________________________________________\n",
      " Layer (type)                Output Shape              Param #   \n",
      "=================================================================\n",
      " dense (Dense)               (None, 50)                10050     \n",
      "                                                                 \n",
      " dense_1 (Dense)             (None, 10)                510       \n",
      "                                                                 \n",
      " dense_2 (Dense)             (None, 3)                 33        \n",
      "                                                                 \n",
      " dense_3 (Dense)             (None, 5)                 20        \n",
      "                                                                 \n",
      " dense_4 (Dense)             (None, 10)                60        \n",
      "                                                                 \n",
      " dense_5 (Dense)             (None, 50)                550       \n",
      "                                                                 \n",
      " dense_6 (Dense)             (None, 200)               10200     \n",
      "                                                                 \n",
      "=================================================================\n",
      "Total params: 21423 (83.68 KB)\n",
      "Trainable params: 21423 (83.68 KB)\n",
      "Non-trainable params: 0 (0.00 Byte)\n",
      "_________________________________________________________________\n"
     ]
    },
    {
     "name": "stderr",
     "output_type": "stream",
     "text": [
      "2023-11-09 21:26:21.632523: I metal_plugin/src/device/metal_device.cc:1154] Metal device set to: Apple M1 Pro\n",
      "2023-11-09 21:26:21.632551: I metal_plugin/src/device/metal_device.cc:296] systemMemory: 16.00 GB\n",
      "2023-11-09 21:26:21.632561: I metal_plugin/src/device/metal_device.cc:313] maxCacheSize: 5.33 GB\n",
      "2023-11-09 21:26:21.632603: I tensorflow/core/common_runtime/pluggable_device/pluggable_device_factory.cc:306] Could not identify NUMA node of platform GPU ID 0, defaulting to 0. Your kernel may not have been built with NUMA support.\n",
      "2023-11-09 21:26:21.632620: I tensorflow/core/common_runtime/pluggable_device/pluggable_device_factory.cc:272] Created TensorFlow device (/job:localhost/replica:0/task:0/device:GPU:0 with 0 MB memory) -> physical PluggableDevice (device: 0, name: METAL, pci bus id: <undefined>)\n"
     ]
    }
   ],
   "source": [
    "tf_neural_net = tf.keras.Sequential([\n",
    "    tf.keras.layers.InputLayer(input_shape=(input_size)),\n",
    "    tf.keras.layers.Dense(units=50, activation=\"relu\"),\n",
    "    tf.keras.layers.Dense(units=10, activation=\"relu\"),\n",
    "    tf.keras.layers.Dense(units=3, activation=\"relu\"),\n",
    "    tf.keras.layers.Dense(units=5, activation=\"relu\"),\n",
    "    tf.keras.layers.Dense(units=10, activation=\"relu\"),\n",
    "    tf.keras.layers.Dense(units=50, activation=\"relu\"),\n",
    "    tf.keras.layers.Dense(units=output_size, activation=\"sigmoid\"),\n",
    "])\n",
    "\n",
    "tf_neural_net.compile(optimizer=\"sgd\", loss=\"mse\")\n",
    "\n",
    "tf_neural_net.summary()"
   ]
  },
  {
   "cell_type": "code",
   "execution_count": 12,
   "metadata": {},
   "outputs": [
    {
     "name": "stdout",
     "output_type": "stream",
     "text": [
      "Epoch 1/15\n"
     ]
    },
    {
     "name": "stderr",
     "output_type": "stream",
     "text": [
      "2023-11-09 21:26:21.986592: I tensorflow/core/grappler/optimizers/custom_graph_optimizer_registry.cc:117] Plugin optimizer for device_type GPU is enabled.\n"
     ]
    },
    {
     "name": "stdout",
     "output_type": "stream",
     "text": [
      "32/32 [==============================] - 1s 10ms/step - loss: 0.0377\n",
      "Epoch 2/15\n",
      "32/32 [==============================] - 0s 7ms/step - loss: 0.0374\n",
      "Epoch 3/15\n",
      "32/32 [==============================] - 0s 7ms/step - loss: 0.0371\n",
      "Epoch 4/15\n",
      "32/32 [==============================] - 0s 7ms/step - loss: 0.0368\n",
      "Epoch 5/15\n",
      "32/32 [==============================] - 0s 7ms/step - loss: 0.0365\n",
      "Epoch 6/15\n",
      "32/32 [==============================] - 0s 7ms/step - loss: 0.0362\n",
      "Epoch 7/15\n",
      "32/32 [==============================] - 0s 7ms/step - loss: 0.0360\n",
      "Epoch 8/15\n",
      "32/32 [==============================] - 0s 7ms/step - loss: 0.0357\n",
      "Epoch 9/15\n",
      "32/32 [==============================] - 0s 7ms/step - loss: 0.0355\n",
      "Epoch 10/15\n",
      "32/32 [==============================] - 0s 7ms/step - loss: 0.0352\n",
      "Epoch 11/15\n",
      "32/32 [==============================] - 0s 7ms/step - loss: 0.0350\n",
      "Epoch 12/15\n",
      "32/32 [==============================] - 0s 7ms/step - loss: 0.0348\n",
      "Epoch 13/15\n",
      "32/32 [==============================] - 0s 7ms/step - loss: 0.0346\n",
      "Epoch 14/15\n",
      "32/32 [==============================] - 0s 7ms/step - loss: 0.0344\n",
      "Epoch 15/15\n",
      "32/32 [==============================] - 0s 7ms/step - loss: 0.0342\n"
     ]
    }
   ],
   "source": [
    "history = tf_neural_net.fit(x_train, y_train, batch_size=BATCH_SIZE, epochs=EPOCHS)"
   ]
  },
  {
   "cell_type": "code",
   "execution_count": 13,
   "metadata": {},
   "outputs": [
    {
     "data": {
      "text/plain": [
       "[<matplotlib.lines.Line2D at 0x14faec450>]"
      ]
     },
     "execution_count": 13,
     "metadata": {},
     "output_type": "execute_result"
    },
    {
     "data": {
      "image/png": "[encoded data removed]",
      "text/plain": [
       "<Figure size 640x480 with 1 Axes>"
      ]
     },
     "metadata": {},
     "output_type": "display_data"
    }
   ],
   "source": [
    "plt.figure()\n",
    "plt.plot(history.history[\"loss\"])"
   ]
  },
  {
   "cell_type": "code",
   "execution_count": 14,
   "metadata": {},
   "outputs": [
    {
     "name": "stdout",
     "output_type": "stream",
     "text": [
      "1/1 [==============================] - 0s 76ms/step\n",
      "0.031083200306520273\n",
      "tf.Tensor(0.031083202, shape=(), dtype=float32)\n"
     ]
    }
   ],
   "source": [
    "y_test_pred_tf = tf_neural_net.predict(x_test)\n",
    "mse = tf.keras.losses.MeanSquaredError()\n",
    "\n",
    "# print(np.linalg.norm(x_test[0] - y_test_pred_tf[0]))\n",
    "print(np.mean(np.square(y_test[0] - y_test_pred_tf[0])))\n",
    "print(mse(tf.expand_dims(y_test[0], axis=1), tf.expand_dims(y_test_pred_tf[0], axis=1)))"
   ]
  },
  {
   "cell_type": "code",
   "execution_count": 15,
   "metadata": {},
   "outputs": [
    {
     "name": "stdout",
     "output_type": "stream",
     "text": [
      "[0.50004936 0.56740819 0.37763604 0.50580017 0.3041809  0.30728483\n",
      " 0.55951348 0.47860538 0.30258627 0.29829281]\n",
      "[0.4500149  0.6621071  0.4466341  0.46092772 0.57111907 0.44700107\n",
      " 0.5620395  0.57142496 0.583272   0.27175128]\n"
     ]
    }
   ],
   "source": [
    "print(y_test[0][0:10])\n",
    "print(y_test_pred_tf[0][0:10])"
   ]
  }
 ],
 "metadata": {
  "kernelspec": {
   "display_name": "iot",
   "language": "python",
   "name": "python3"
  },
  "language_info": {
   "codemirror_mode": {
    "name": "ipython",
    "version": 3
   },
   "file_extension": ".py",
   "mimetype": "text/x-python",
   "name": "python",
   "nbconvert_exporter": "python",
   "pygments_lexer": "ipython3",
   "version": "3.11.5"
  }
 },
 "nbformat": 4,
 "nbformat_minor": 2
}
