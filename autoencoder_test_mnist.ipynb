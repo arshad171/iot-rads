{
 "cells": [
  {
   "cell_type": "code",
   "execution_count": 103,
   "metadata": {},
   "outputs": [],
   "source": [
    "from tqdm import tqdm\n",
    "import pickle\n",
    "import gzip\n",
    "from typing import List\n",
    "import matplotlib.pyplot as plt\n",
    "\n",
    "import numpy as np\n",
    "from sklearn.preprocessing import OneHotEncoder\n",
    "\n",
    "from neural_network.layers.base_layer import BaseLayer\n",
    "from neural_network.layers.linear_layer import LinearLayer\n",
    "from neural_network.layers.relu_layer import ReluLayer\n",
    "from neural_network.layers.sigmoid_layer import SigmoidLayer\n",
    "from neural_network.models.layer_types import LayerTypes\n",
    "from neural_network.utils import predict, accuracy\n",
    "\n",
    "from neural_network.losses.squared_loss import SquaredLoss\n",
    "from neural_network.losses.absolute_loss import AbsoluteLoss\n",
    "\n",
    "from sklearn.datasets import load_digits\n",
    "from sklearn.model_selection import train_test_split\n",
    "import tensorflow as tf"
   ]
  },
  {
   "cell_type": "code",
   "execution_count": 104,
   "metadata": {},
   "outputs": [],
   "source": [
    "# set the seed to zero for reproducibility\n",
    "np.random.seed(0)"
   ]
  },
  {
   "cell_type": "code",
   "execution_count": 105,
   "metadata": {},
   "outputs": [],
   "source": [
    "# input\n",
    "input_size = 64\n",
    "# output\n",
    "output_size = 64\n",
    "\n",
    "# number of samples (datapoints)\n",
    "N_TRAIN = 1_000\n",
    "N_TEST = 10"
   ]
  },
  {
   "cell_type": "code",
   "execution_count": 106,
   "metadata": {},
   "outputs": [],
   "source": [
    "digits = load_digits()\n",
    "\n",
    "x_train, x_test = train_test_split(digits.data, test_size=0.1)"
   ]
  },
  {
   "cell_type": "code",
   "execution_count": 107,
   "metadata": {},
   "outputs": [
    {
     "data": {
      "text/plain": [
       "<matplotlib.image.AxesImage at 0x163d68890>"
      ]
     },
     "execution_count": 107,
     "metadata": {},
     "output_type": "execute_result"
    },
    {
     "data": {
      "image/png": "[encoded data removed]",
      "text/plain": [
       "<Figure size 640x480 with 1 Axes>"
      ]
     },
     "metadata": {},
     "output_type": "display_data"
    }
   ],
   "source": [
    "plt.imshow(np.reshape(x_test[0], newshape=(8, 8)))"
   ]
  },
  {
   "cell_type": "code",
   "execution_count": 108,
   "metadata": {},
   "outputs": [],
   "source": [
    "min_vals = np.min(x_train)\n",
    "max_vals = np.max(x_train)\n",
    "\n",
    "x_train = (x_train - min_vals) / (max_vals - min_vals)\n",
    "\n",
    "y_train = x_train.copy()\n",
    "\n",
    "x_test = (x_test - min_vals) / (max_vals - min_vals)\n",
    "\n",
    "y_test = x_test.copy()"
   ]
  },
  {
   "cell_type": "code",
   "execution_count": 109,
   "metadata": {},
   "outputs": [
    {
     "data": {
      "text/plain": [
       "<matplotlib.image.AxesImage at 0x163d23450>"
      ]
     },
     "execution_count": 109,
     "metadata": {},
     "output_type": "execute_result"
    },
    {
     "data": {
      "image/png": "[encoded data removed]",
      "text/plain": [
       "<Figure size 640x480 with 1 Axes>"
      ]
     },
     "metadata": {},
     "output_type": "display_data"
    }
   ],
   "source": [
    "plt.imshow(np.reshape(x_test[0], newshape=(8, 8)))"
   ]
  },
  {
   "cell_type": "code",
   "execution_count": 110,
   "metadata": {},
   "outputs": [],
   "source": [
    "shuffle_ix = np.arange(0, N_TRAIN, 1) \n",
    "np.random.shuffle(shuffle_ix,)"
   ]
  },
  {
   "cell_type": "code",
   "execution_count": 111,
   "metadata": {},
   "outputs": [],
   "source": [
    "SAVE = True\n",
    "\n",
    "BATCH_SIZE = 16\n",
    "LEARNING_RATE = 1e-3\n",
    "EPOCHS = 50\n",
    "\n",
    "# neural network: nothing but a list of layers!\n",
    "neural_net: List[BaseLayer] = [\n",
    "    LinearLayer(input_size=input_size, output_size=10),\n",
    "    ReluLayer(),\n",
    "    LinearLayer(input_size=10, output_size=3),\n",
    "    ReluLayer(),\n",
    "    LinearLayer(input_size=3, output_size=10),\n",
    "    ReluLayer(),\n",
    "    LinearLayer(input_size=10, output_size=output_size),\n",
    "    SigmoidLayer(),\n",
    "]\n",
    "\n",
    "# loss = AbsoluteLoss()\n",
    "loss = SquaredLoss()"
   ]
  },
  {
   "cell_type": "code",
   "execution_count": 112,
   "metadata": {},
   "outputs": [
    {
     "name": "stderr",
     "output_type": "stream",
     "text": [
      "100%|██████████| 50/50 [00:00<00:00, 163.02it/s]\n"
     ]
    }
   ],
   "source": [
    "train_losses = []\n",
    "train_accuracies = []\n",
    "test_accuracies = []\n",
    "\n",
    "for epoch in tqdm(range(EPOCHS)):\n",
    "    epoch_loss = []\n",
    "    for batch_start in range(0, N_TRAIN, BATCH_SIZE):\n",
    "        batch_ix = shuffle_ix[batch_start: batch_start + BATCH_SIZE]\n",
    "\n",
    "        X_batch: np.ndarray = x_train[batch_ix]\n",
    "        y_batch: np.ndarray = y_train[batch_ix]\n",
    "\n",
    "        # transpose, (m x N) and (n x N)\n",
    "        X_batch = X_batch.T\n",
    "        y_batch = y_batch.T\n",
    "\n",
    "        ### forward propagation\n",
    "        fps = []\n",
    "        fp = X_batch\n",
    "        for layer in neural_net:\n",
    "            fp = layer.forward(fp, persist=True)\n",
    "            fps.append(fp)\n",
    "\n",
    "        train_loss = loss.forward(Yhat=fp, Y=y_batch)\n",
    "        epoch_loss.append(train_loss)\n",
    "        \n",
    "        # final upstream grads\n",
    "        # should ideally come from the loss function, assume it for now \n",
    "        # (this will change when the loss function is implemented)\n",
    "        # dLdY = np.random.randn(y_batch.shape[0], y_batch.shape[1])\n",
    "\n",
    "        # compute the final upstream grads from the loss function\n",
    "        dLdY = loss.backward(Yhat=fp, Y=y_batch)\n",
    "\n",
    "        ### backprop\n",
    "        # iterate the layers in reversed order for backprop, use chain rule recursively!\n",
    "        for layer in reversed(neural_net):\n",
    "            if layer.type == LayerTypes.ACTIVATION:\n",
    "                dLdY = layer.backward(dLdY=dLdY)\n",
    "\n",
    "            if layer.type == LayerTypes.LINEAR:\n",
    "                # use these for gradient update\n",
    "                dLdW, dLdb = layer.grads(dLdY=dLdY)\n",
    "\n",
    "                ### gradient descent\n",
    "                layer.weights -= LEARNING_RATE * dLdW\n",
    "                layer.bias -= LEARNING_RATE * dLdb\n",
    "\n",
    "                # new dLdY to pass to the previous layer\n",
    "                dLdY = layer.backward(dLdY=dLdY)\n",
    "    \n",
    "    train_losses.append(np.mean(epoch_loss))\n",
    "    # train_accuracies.append(accuracy(neural_net=neural_net, X_data=X_train, y_data=y_train))\n",
    "    # test_accuracies.append(accuracy(neural_net=neural_net, X_data=X_test, y_data=y_test))\n"
   ]
  },
  {
   "cell_type": "code",
   "execution_count": 113,
   "metadata": {},
   "outputs": [
    {
     "data": {
      "image/png": "[encoded data removed]",
      "text/plain": [
       "<Figure size 1000x600 with 1 Axes>"
      ]
     },
     "metadata": {},
     "output_type": "display_data"
    }
   ],
   "source": [
    "# plot the train and test accuracies\n",
    "plt.figure(figsize=(10, 6)) \n",
    "plt.plot(range(EPOCHS), train_losses, marker='o', linestyle='-',label='train accuracy')\n",
    "# plt.plot(range(EPOCHS), test_accuracies, marker='s', linestyle='--', label='test accuracy')\n",
    "plt.xlabel('Epochs')\n",
    "plt.ylabel('Loss')\n",
    "plt.title('Loss vs. Epochs')\n",
    "plt.legend()\n",
    "plt.grid(True)\n",
    "plt.show()"
   ]
  },
  {
   "cell_type": "code",
   "execution_count": 114,
   "metadata": {},
   "outputs": [],
   "source": [
    "y_test_pred = predict(neural_net, x_test)"
   ]
  },
  {
   "cell_type": "code",
   "execution_count": 115,
   "metadata": {},
   "outputs": [
    {
     "name": "stdout",
     "output_type": "stream",
     "text": [
      "0.08004390719920929\n"
     ]
    },
    {
     "data": {
      "text/plain": [
       "<matplotlib.image.AxesImage at 0x164e6ee90>"
      ]
     },
     "execution_count": 115,
     "metadata": {},
     "output_type": "execute_result"
    },
    {
     "data": {
      "image/png": "[encoded data removed]",
      "text/plain": [
       "<Figure size 640x480 with 1 Axes>"
      ]
     },
     "metadata": {},
     "output_type": "display_data"
    },
    {
     "data": {
      "image/png": "[encoded data removed]",
      "text/plain": [
       "<Figure size 640x480 with 1 Axes>"
      ]
     },
     "metadata": {},
     "output_type": "display_data"
    }
   ],
   "source": [
    "r_ix = 1\n",
    "\n",
    "print(np.mean(np.square((x_test[r_ix] - y_test_pred[r_ix]))))\n",
    "\n",
    "plt.figure()\n",
    "plt.imshow(np.reshape(y_test[r_ix], newshape=(8, 8)))\n",
    "plt.figure()\n",
    "plt.imshow(np.reshape(y_test_pred[r_ix], newshape=(8, 8)))"
   ]
  },
  {
   "cell_type": "code",
   "execution_count": 116,
   "metadata": {},
   "outputs": [
    {
     "name": "stdout",
     "output_type": "stream",
     "text": [
      "Model: \"sequential_3\"\n",
      "_________________________________________________________________\n",
      " Layer (type)                Output Shape              Param #   \n",
      "=================================================================\n",
      " dense_12 (Dense)            (None, 10)                650       \n",
      "                                                                 \n",
      " dense_13 (Dense)            (None, 3)                 33        \n",
      "                                                                 \n",
      " dense_14 (Dense)            (None, 10)                40        \n",
      "                                                                 \n",
      " dense_15 (Dense)            (None, 64)                704       \n",
      "                                                                 \n",
      "=================================================================\n",
      "Total params: 1427 (5.57 KB)\n",
      "Trainable params: 1427 (5.57 KB)\n",
      "Non-trainable params: 0 (0.00 Byte)\n",
      "_________________________________________________________________\n"
     ]
    }
   ],
   "source": [
    "tf_neural_net = tf.keras.Sequential([\n",
    "    tf.keras.layers.InputLayer(input_shape=(input_size)),\n",
    "    tf.keras.layers.Dense(units=10, activation=\"relu\"),\n",
    "    tf.keras.layers.Dense(units=3, activation=\"relu\"),\n",
    "    tf.keras.layers.Dense(units=10, activation=\"relu\"),\n",
    "    tf.keras.layers.Dense(units=output_size, activation=\"sigmoid\"),\n",
    "])\n",
    "\n",
    "# tf_neural_net.compile(optimizer=tf.keras.optimizers.experimental.SGD(learning_rate=LEARNING_RATE), loss=\"mse\")\n",
    "tf_neural_net.compile(optimizer=\"adam\", loss=\"mse\")\n",
    "\n",
    "tf_neural_net.summary()"
   ]
  },
  {
   "cell_type": "code",
   "execution_count": 117,
   "metadata": {},
   "outputs": [
    {
     "name": "stdout",
     "output_type": "stream",
     "text": [
      "Epoch 1/50\n",
      "102/102 [==============================] - 1s 7ms/step - loss: 0.1441\n",
      "Epoch 2/50\n",
      "102/102 [==============================] - 1s 6ms/step - loss: 0.0808\n",
      "Epoch 3/50\n",
      "102/102 [==============================] - 1s 7ms/step - loss: 0.0725\n",
      "Epoch 4/50\n",
      "102/102 [==============================] - 1s 7ms/step - loss: 0.0700\n",
      "Epoch 5/50\n",
      "102/102 [==============================] - 1s 8ms/step - loss: 0.0675\n",
      "Epoch 6/50\n",
      "102/102 [==============================] - 1s 6ms/step - loss: 0.0631\n",
      "Epoch 7/50\n",
      "102/102 [==============================] - 1s 6ms/step - loss: 0.0588\n",
      "Epoch 8/50\n",
      "102/102 [==============================] - 1s 7ms/step - loss: 0.0559\n",
      "Epoch 9/50\n",
      "102/102 [==============================] - 1s 6ms/step - loss: 0.0545\n",
      "Epoch 10/50\n",
      "102/102 [==============================] - 1s 7ms/step - loss: 0.0539\n",
      "Epoch 11/50\n",
      "102/102 [==============================] - 1s 6ms/step - loss: 0.0537\n",
      "Epoch 12/50\n",
      "102/102 [==============================] - 1s 6ms/step - loss: 0.0535\n",
      "Epoch 13/50\n",
      "102/102 [==============================] - 1s 7ms/step - loss: 0.0533\n",
      "Epoch 14/50\n",
      "102/102 [==============================] - 1s 7ms/step - loss: 0.0534\n",
      "Epoch 15/50\n",
      "102/102 [==============================] - 1s 6ms/step - loss: 0.0532\n",
      "Epoch 16/50\n",
      "102/102 [==============================] - 1s 7ms/step - loss: 0.0531\n",
      "Epoch 17/50\n",
      "102/102 [==============================] - 1s 7ms/step - loss: 0.0532\n",
      "Epoch 18/50\n",
      "102/102 [==============================] - 1s 7ms/step - loss: 0.0532\n",
      "Epoch 19/50\n",
      "102/102 [==============================] - 1s 7ms/step - loss: 0.0537\n",
      "Epoch 20/50\n",
      "102/102 [==============================] - 1s 7ms/step - loss: 0.0540\n",
      "Epoch 21/50\n",
      "102/102 [==============================] - 1s 6ms/step - loss: 0.0544\n",
      "Epoch 22/50\n",
      "102/102 [==============================] - 1s 7ms/step - loss: 0.0550\n",
      "Epoch 23/50\n",
      "102/102 [==============================] - 1s 7ms/step - loss: 0.0552\n",
      "Epoch 24/50\n",
      "102/102 [==============================] - 1s 6ms/step - loss: 0.0560\n",
      "Epoch 25/50\n",
      "102/102 [==============================] - 1s 7ms/step - loss: 0.0563\n",
      "Epoch 26/50\n",
      "102/102 [==============================] - 1s 7ms/step - loss: 0.0569\n",
      "Epoch 27/50\n",
      "102/102 [==============================] - 1s 7ms/step - loss: 0.0576\n",
      "Epoch 28/50\n",
      "102/102 [==============================] - 1s 6ms/step - loss: 0.0579\n",
      "Epoch 29/50\n",
      "102/102 [==============================] - 1s 7ms/step - loss: 0.0582\n",
      "Epoch 30/50\n",
      "102/102 [==============================] - 1s 6ms/step - loss: 0.0583\n",
      "Epoch 31/50\n",
      "102/102 [==============================] - 1s 6ms/step - loss: 0.0594\n",
      "Epoch 32/50\n",
      "102/102 [==============================] - 1s 6ms/step - loss: 0.0592\n",
      "Epoch 33/50\n",
      "102/102 [==============================] - 1s 6ms/step - loss: 0.0567\n",
      "Epoch 34/50\n",
      "102/102 [==============================] - 1s 7ms/step - loss: 0.0540\n",
      "Epoch 35/50\n",
      "102/102 [==============================] - 1s 7ms/step - loss: 0.0526\n",
      "Epoch 36/50\n",
      "102/102 [==============================] - 1s 6ms/step - loss: 0.0520\n",
      "Epoch 37/50\n",
      "102/102 [==============================] - 1s 6ms/step - loss: 0.0517\n",
      "Epoch 38/50\n",
      "102/102 [==============================] - 1s 6ms/step - loss: 0.0515\n",
      "Epoch 39/50\n",
      "102/102 [==============================] - 1s 7ms/step - loss: 0.0514\n",
      "Epoch 40/50\n",
      "102/102 [==============================] - 1s 6ms/step - loss: 0.0514\n",
      "Epoch 41/50\n",
      "102/102 [==============================] - 1s 6ms/step - loss: 0.0514\n",
      "Epoch 42/50\n",
      "102/102 [==============================] - 1s 6ms/step - loss: 0.0514\n",
      "Epoch 43/50\n",
      "102/102 [==============================] - 1s 6ms/step - loss: 0.0515\n",
      "Epoch 44/50\n",
      "102/102 [==============================] - 1s 6ms/step - loss: 0.0514\n",
      "Epoch 45/50\n",
      "102/102 [==============================] - 1s 6ms/step - loss: 0.0514\n",
      "Epoch 46/50\n",
      "102/102 [==============================] - 1s 6ms/step - loss: 0.0514\n",
      "Epoch 47/50\n",
      "102/102 [==============================] - 1s 6ms/step - loss: 0.0514\n",
      "Epoch 48/50\n",
      "102/102 [==============================] - 1s 6ms/step - loss: 0.0515\n",
      "Epoch 49/50\n",
      "102/102 [==============================] - 1s 7ms/step - loss: 0.0514\n",
      "Epoch 50/50\n",
      "102/102 [==============================] - 1s 7ms/step - loss: 0.0514\n"
     ]
    }
   ],
   "source": [
    "history = tf_neural_net.fit(x_train, y_train, batch_size=BATCH_SIZE, epochs=EPOCHS)"
   ]
  },
  {
   "cell_type": "code",
   "execution_count": 118,
   "metadata": {},
   "outputs": [
    {
     "data": {
      "text/plain": [
       "[<matplotlib.lines.Line2D at 0x164835350>]"
      ]
     },
     "execution_count": 118,
     "metadata": {},
     "output_type": "execute_result"
    },
    {
     "data": {
      "image/png": "[encoded data removed]",
      "text/plain": [
       "<Figure size 640x480 with 1 Axes>"
      ]
     },
     "metadata": {},
     "output_type": "display_data"
    }
   ],
   "source": [
    "plt.figure()\n",
    "plt.plot(history.history[\"loss\"])"
   ]
  },
  {
   "cell_type": "code",
   "execution_count": 119,
   "metadata": {},
   "outputs": [
    {
     "name": "stdout",
     "output_type": "stream",
     "text": [
      "6/6 [==============================] - 0s 3ms/step\n"
     ]
    }
   ],
   "source": [
    "y_test_pred_tf = tf_neural_net.predict(x_test)"
   ]
  },
  {
   "cell_type": "code",
   "execution_count": 120,
   "metadata": {},
   "outputs": [
    {
     "name": "stdout",
     "output_type": "stream",
     "text": [
      "0.07270482334582593\n"
     ]
    },
    {
     "data": {
      "text/plain": [
       "<matplotlib.image.AxesImage at 0x16a58b090>"
      ]
     },
     "execution_count": 120,
     "metadata": {},
     "output_type": "execute_result"
    },
    {
     "data": {
      "image/png": "[encoded data removed]",
      "text/plain": [
       "<Figure size 640x480 with 1 Axes>"
      ]
     },
     "metadata": {},
     "output_type": "display_data"
    },
    {
     "data": {
      "image/png": "[encoded data removed]",
      "text/plain": [
       "<Figure size 640x480 with 1 Axes>"
      ]
     },
     "metadata": {},
     "output_type": "display_data"
    }
   ],
   "source": [
    "# mse = tf.keras.losses.MeanSquaredError()\n",
    "\n",
    "print(np.mean(np.square(x_test[r_ix] - y_test_pred_tf[r_ix])))\n",
    "# print(mse(y_test[0], y_test_pred_tf[0]))\n",
    "\n",
    "plt.figure()\n",
    "plt.imshow(np.reshape(y_test[r_ix], newshape=(8, 8)))\n",
    "plt.figure()\n",
    "plt.imshow(np.reshape(y_test_pred_tf[r_ix], newshape=(8, 8)))"
   ]
  },
  {
   "cell_type": "code",
   "execution_count": 121,
   "metadata": {},
   "outputs": [
    {
     "name": "stdout",
     "output_type": "stream",
     "text": [
      "1/1 [==============================] - 0s 17ms/step\n",
      "reconstruction error 0.1742983923582702\n",
      "reconstruction error (tf) 0.16025854678448764\n"
     ]
    }
   ],
   "source": [
    "random_input = np.random.rand(1, 64)\n",
    "\n",
    "pred1 = predict(neural_net, random_input)\n",
    "pred2 = tf_neural_net.predict(random_input)\n",
    "\n",
    "\n",
    "print(\"reconstruction error\", np.mean(np.square(random_input - pred1)))\n",
    "print(\"reconstruction error (tf)\", np.mean(np.square(random_input - pred2)))"
   ]
  }
 ],
 "metadata": {
  "kernelspec": {
   "display_name": "iot",
   "language": "python",
   "name": "python3"
  },
  "language_info": {
   "codemirror_mode": {
    "name": "ipython",
    "version": 3
   },
   "file_extension": ".py",
   "mimetype": "text/x-python",
   "name": "python",
   "nbconvert_exporter": "python",
   "pygments_lexer": "ipython3",
   "version": "3.11.5"
  }
 },
 "nbformat": 4,
 "nbformat_minor": 2
}
